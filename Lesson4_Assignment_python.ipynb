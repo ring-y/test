{
 "cells": [
  {
   "cell_type": "markdown",
   "metadata": {},
   "source": [
    "![](https://img.kaikeba.com/web/kkb_index/img_index_logo.png)\n",
    "# 基础课第一部分（python）第四次作业  \n",
    "同学们～大家好！欢迎大家来到基础课python部分作业，本次作业有两个部分，理论部分 和 编程实践部分。\n",
    "## 理论部分\n",
    "### 1. python中可以使用`import`导入哪些对象？"
   ]
  },
  {
   "cell_type": "markdown",
   "metadata": {},
   "source": [
    "你的回答：\n",
    "1. 包或模块 import xxx (as a) 调用xxx(a).object\n",
    "2. 变量  from xxx import xxx 直接使用\n",
    "3. 函数名字 form xxx import *  调用x()"
   ]
  },
  {
   "cell_type": "markdown",
   "metadata": {},
   "source": [
    "### 2. 机器学习和函数/模块的思想有哪些异同？"
   ]
  },
  {
   "cell_type": "markdown",
   "metadata": {},
   "source": [
    "##### 传统的任务开发流程：  \n",
    "问题 -> 分析 -> 伪码实现(概念解决) -> 编写代码 -> 利用数据验证\n",
    "（开发者知道整个流程的业务逻辑，每一步均有明确地可解释性）\n",
    "\n",
    "##### 机器学习优化流程：\n",
    "拥有数据$x$,$y$，需要通过模型拟合$x$与$y$之间的函数关系$f$\n",
    "利用$x$,$y$ 选择一部分数据集进行学习$f$ -> 用剩余的$x$,$y$验证看$f$效果"
   ]
  },
  {
   "cell_type": "markdown",
   "metadata": {},
   "source": [
    "## 编程实践部分\n",
    "### 3. 安装 `numpy`, `matplotlib`,`sklearn`包, 并测试是否安装完成  \n",
    "如果遇到错误，请阅读错误并尝试自己解决  \n",
    "执行以下代码不报错\n",
    "``` python\n",
    "import numpy as np\n",
    "import matplotlib \n",
    "import sklearn\n",
    "```"
   ]
  },
  {
   "cell_type": "code",
   "execution_count": 3,
   "metadata": {},
   "outputs": [],
   "source": [
    "import numpy as np\n",
    "import matplotlib \n",
    "import sklearn"
   ]
  },
  {
   "cell_type": "markdown",
   "metadata": {},
   "source": [
    "### 4. 打乱数据集  \n",
    "同时打乱 x,y，保证数据和标签的对应关系\n",
    "``` python\n",
    "x = ['快递太慢了！','不好吃','特别难吃','要齁死我了','很划算','下次还来','味道很不错！','香']\n",
    "y = ['差评','差评','差评','差评','好评','好评','好评','好评']\n",
    "```"
   ]
  },
  {
   "cell_type": "code",
   "execution_count": 153,
   "metadata": {},
   "outputs": [
    {
     "name": "stdout",
     "output_type": "stream",
     "text": [
      "味道很不错！ : 好评\n",
      "很划算 : 好评\n",
      "要齁死我了 : 差评\n",
      "特别难吃 : 差评\n",
      "快递太慢了！ : 差评\n",
      "下次还来 : 好评\n",
      "香 : 好评\n",
      "不好吃 : 差评\n"
     ]
    }
   ],
   "source": [
    "import random\n",
    "import numpy as np\n",
    "# your code\n",
    "# you may need import some package\n",
    "x = ['快递太慢了！','不好吃','特别难吃','要齁死我了','很划算','下次还来','味道很不错！','香']\n",
    "y = ['差评','差评','差评','差评','好评','好评','好评','好评']\n",
    "x_y = []\n",
    "\n",
    "\n",
    "def shuffle(x,y):\n",
    "    # your code here\n",
    "    for i in range(len(x)):\n",
    "        x_y.append([x[i],y[i]])\n",
    "        i += 1\n",
    "    random.shuffle(x_y)\n",
    "    x = np.mat(x_y).T[0].tolist()[0]\n",
    "    y = np.mat(x_y).T[1].tolist()[0]\n",
    "    return x,y\n",
    "\n",
    "v = shuffle(x,y)\n",
    "# print result for certify\n",
    "for i,j in zip(v[0],v[1]):\n",
    "    print(i,':',j)\n"
   ]
  },
  {
   "cell_type": "markdown",
   "metadata": {},
   "source": [
    "### 5. 单词统计  \n",
    "使用函数，统计每个单词的出现次数，返回字典(查阅资料导入已完成此功能的包)\n",
    "``` python\n",
    "text = '2019 年 十月 一日 上午 ， 庆祝 中华人民共和国 成立 70 周年 阅兵式 在 首都北京 盛大举行 ， 59 个 阅兵 方阵 ， 580 台受 阅 装备 ， 1.5 万人 的 参阅 队伍 接受 了 全国 人民 的 检阅 。 阅兵 装备 方队 展示 的 武器装备 皆 为 国产 现役 主战 装备 ， 40% 为 首次 展示 。 其中 近些年来 广受 全球 关注 的 东风 41 洲际 弹道导弹 ， 巨浪 二潜射 弹道导弹 ， 东风 17 高超音速 武器 系统 终于 揭幕 亮剑 ， 以 \" 不怒 自威 \" 的 形象 向 世界 展示 中国 捍卫 和平 的 意志 与 力量 。 相较 于 其他 首度 公开 亮相 的 武器装备 ， 这 三款 武器 多年 来 传闻 不断 ， 备受 关注 ， 并 因 其 \" 大国 基石 \" 的 地位 而 被 公众 赋予 特殊 的 期待 ， 这 三款 武器装备 实力 究竟 如何 ， 又 各自 承担 着 怎样 的 历史 \" 使命 \" 呢 ？ 本报 特约 相关 领域 军事 专家 ， 为 大家 详细 解读 这 三款 彰显 国威 ， 震撼 世界 的 国 之 重器 。'\n",
    "```"
   ]
  },
  {
   "cell_type": "code",
   "execution_count": 19,
   "metadata": {},
   "outputs": [
    {
     "name": "stdout",
     "output_type": "stream",
     "text": [
      "{'的': 11, '三款': 3, '领域': 1, '特殊': 1, '期待': 1, '其': 1, '首度': 1, '国产': 1, '阅': 1, '中华人民共和国': 1, '而': 1, '使命': 1, '其中': 1, '参阅': 1, '方阵': 1, '向': 1, '相关': 1, '形象': 1, '赋予': 1, '其他': 1, '意志': 1, '阅兵式': 1, '怎样': 1, '关注': 2, '力量': 1, '和平': 1, '检阅': 1, '传闻': 1, '国威': 1, '详细': 1, '特约': 1, '大国': 1, '二潜射': 1, '亮剑': 1, '现役': 1, '580': 1, '方队': 1, '并': 1, '\"': 6, '终于': 1, '公开': 1, '周年': 1, '台受': 1, '40%': 1, '解读': 1, '皆': 1, '弹道导弹': 2, '高超音速': 1, '公众': 1, '武器': 2, '被': 1, '1.5': 1, '着': 1, '全国': 1, '历史': 1, '亮相': 1, '首都北京': 1, '，': 15, '70': 1, '相较': 1, '军事': 1, '中国': 1, '如何': 1, '世界': 2, '巨浪': 1, '上午': 1, '又': 1, '？': 1, '本报': 1, '彰显': 1, '一日': 1, '系统': 1, '这': 3, '成立': 1, '庆祝': 1, '呢': 1, '国': 1, '近些年来': 1, '来': 1, '震撼': 1, '大家': 1, '捍卫': 1, '基石': 1, '59': 1, '备受': 1, '专家': 1, '洲际': 1, '武器装备': 3, '全球': 1, '广受': 1, '17': 1, '之': 1, '于': 1, '接受': 1, '实力': 1, '队伍': 1, '因': 1, '2019': 1, '揭幕': 1, '重器': 1, '了': 1, '为': 3, '在': 1, '主战': 1, '万人': 1, '首次': 1, '不断': 1, '盛大举行': 1, '十月': 1, '多年': 1, '究竟': 1, '年': 1, '阅兵': 2, '以': 1, '与': 1, '展示': 3, '41': 1, '不怒': 1, '装备': 3, '自威': 1, '承担': 1, '个': 1, '人民': 1, '。': 4, '地位': 1, '各自': 1, '东风': 2}\n"
     ]
    }
   ],
   "source": [
    "# your code\n",
    "#import random\n",
    "#import # which package ? (you can change to from ? import ?)\n",
    "dict_cw = {}\n",
    "def count_words(text):\n",
    "        # your code here\n",
    "    sp_t = str.split(text,' ')\n",
    "    ls_text = list(set(sp_t))\n",
    "    for i in range(len(ls_text)):\n",
    "        count = 0\n",
    "        words = ls_text[i]\n",
    "        while words in sp_t:\n",
    "            sp_t.remove(words)\n",
    "            count += 1\n",
    "        dict_cw[words]=count\n",
    "    return dict_cw\n",
    "    \n",
    "\n",
    "# test \n",
    "text = '2019 年 十月 一日 上午 ， 庆祝 中华人民共和国 成立 70 周年 阅兵式 在 首都北京 盛大举行 ， 59 个 阅兵 方阵 ， 580 台受 阅 装备 ， 1.5 万人 的 参阅 队伍 接受 了 全国 人民 的 检阅 。 阅兵 装备 方队 展示 的 武器装备 皆 为 国产 现役 主战 装备 ， 40% 为 首次 展示 。 其中 近些年来 广受 全球 关注 的 东风 41 洲际 弹道导弹 ， 巨浪 二潜射 弹道导弹 ， 东风 17 高超音速 武器 系统 终于 揭幕 亮剑 ， 以 \" 不怒 自威 \" 的 形象 向 世界 展示 中国 捍卫 和平 的 意志 与 力量 。 相较 于 其他 首度 公开 亮相 的 武器装备 ， 这 三款 武器 多年 来 传闻 不断 ， 备受 关注 ， 并 因 其 \" 大国 基石 \" 的 地位 而 被 公众 赋予 特殊 的 期待 ， 这 三款 武器装备 实力 究竟 如何 ， 又 各自 承担 着 怎样 的 历史 \" 使命 \" 呢 ？ 本报 特约 相关 领域 军事 专家 ， 为 大家 详细 解读 这 三款 彰显 国威 ， 震撼 世界 的 国 之 重器 。'\n",
    "print(count_words(text))"
   ]
  },
  {
   "cell_type": "markdown",
   "metadata": {},
   "source": [
    "各位同学，我们已经学会了如何导包及安装包。  \n",
    "这个是后期AI课程的基础，大家一定要加油呀~\n",
    "![image alt <](http://5b0988e595225.cdn.sohucs.com/images/20190420/1d1070881fd540db817b2a3bdd967f37.gif)"
   ]
  },
  {
   "cell_type": "code",
   "execution_count": null,
   "metadata": {},
   "outputs": [],
   "source": []
  }
 ],
 "metadata": {
  "kernelspec": {
   "display_name": "Python 3",
   "language": "python",
   "name": "python3"
  },
  "language_info": {
   "codemirror_mode": {
    "name": "ipython",
    "version": 3
   },
   "file_extension": ".py",
   "mimetype": "text/x-python",
   "name": "python",
   "nbconvert_exporter": "python",
   "pygments_lexer": "ipython3",
   "version": "3.7.0"
  }
 },
 "nbformat": 4,
 "nbformat_minor": 4
}
