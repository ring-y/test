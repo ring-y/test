{
 "cells": [
  {
   "cell_type": "code",
   "execution_count": 59,
   "metadata": {},
   "outputs": [
    {
     "name": "stdin",
     "output_type": "stream",
     "text": [
      "请输入k值： 2\n"
     ]
    },
    {
     "name": "stdout",
     "output_type": "stream",
     "text": [
      "((-2.6, 6.6), '是1类')\n",
      "((1.4, 1.6), '是2类')\n",
      "((-2.5, 1.2), '是2类')\n"
     ]
    }
   ],
   "source": [
    "import cmath\n",
    "import math\n",
    "\n",
    "x = {(1,1):2,(0.4,5.2):1,(-2.8,-1.1):2,(3.2,1.4):1,(-1.3,3.2):1,(-3,3.1):2}\n",
    "y = {(-2.6,6.6):0,(1.4,1.6):0,(-2.5,1.2):0}\n",
    "\n",
    "class Knn_func():\n",
    "    '''\n",
    "    两点距离公式（排序）\n",
    "    '''\n",
    "    def k_p(self,px,py):\n",
    "        L = [math.sqrt((px[i][0]-py[0])**2+(px[i][1]-py[1])**2) for i in range(len(px))]\n",
    "        return sorted(dict(zip(x,L)).items(),key = lambda item:item[1])\n",
    "    '''\n",
    "    查看是 1 or 2\n",
    "    '''\n",
    "    def k_class(self,i,k,a):\n",
    "        if a.count(1)>a.count(2):\n",
    "            return list(y)[i],'是1类'\n",
    "        elif a.count(1)<a.count(2):\n",
    "            return list(y)[i],'是2类'\n",
    "        else:\n",
    "            return list(y)[i],'是{0}类'.format(a[0])\n",
    "            \n",
    "            \n",
    "kf = Knn_func()\n",
    "k = int(input('请输入k值：'))\n",
    "for i in range(len(y)):\n",
    "    k_p_value = kf.k_p(list(x.keys()),list(y)[i])\n",
    "    print(kf.k_class(i,k,[x.get(list(dict(k_p_value[:k]).keys())[i]) for i in range(k)]))"
   ]
  }
 ],
 "metadata": {
  "kernelspec": {
   "display_name": "Python 3",
   "language": "python",
   "name": "python3"
  },
  "language_info": {
   "codemirror_mode": {
    "name": "ipython",
    "version": 3
   },
   "file_extension": ".py",
   "mimetype": "text/x-python",
   "name": "python",
   "nbconvert_exporter": "python",
   "pygments_lexer": "ipython3",
   "version": "3.7.0"
  }
 },
 "nbformat": 4,
 "nbformat_minor": 2
}
