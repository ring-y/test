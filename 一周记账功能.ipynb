{
 "cells": [
  {
   "cell_type": "markdown",
   "metadata": {},
   "source": [
    "## 1. 实现一周的记账功能\n",
    "首先记录输入的7天的收入，然后记录输入的7天的支出。  \n",
    "然后打印出以下内容：\n",
    "- 7天的收入(list)\n",
    "- 7天的支出(list)\n",
    "- 每天的结余(dict)\n",
    "- 最终的结余"
   ]
  },
  {
   "cell_type": "code",
   "execution_count": null,
   "metadata": {},
   "outputs": [
    {
     "name": "stdout",
     "output_type": "stream",
     "text": [
      "第 1 天的收入：\n"
     ]
    }
   ],
   "source": [
    "ssr=[]\n",
    "szc=[]\n",
    "sjy={}\n",
    "a=0.00 #小数点后两位方法？？？？\n",
    "b=0.00\n",
    "for i in range(1,8):\n",
    "    print('第',i,'天的收入：')\n",
    "    ssr.append(input())\n",
    "    a +=float(ssr[i-1])\n",
    "    print('第',i,'天的支出：')\n",
    "    szc.append(input())\n",
    "    b +=float(szc[i-1])\n",
    "    print('第',i,'天的结余是：',a-b)\n",
    "    sjy[i]=a-b\n",
    "print('七天收入分别是：',ssr)\n",
    "print('七天支出分别是：',szc)\n",
    "print('七天结余分别是：',sjy)\n",
    "print('最终的结余是：',a-b)\n",
    "    "
   ]
  },
  {
   "cell_type": "code",
   "execution_count": null,
   "metadata": {},
   "outputs": [],
   "source": []
  }
 ],
 "metadata": {
  "kernelspec": {
   "display_name": "Python 3",
   "language": "python",
   "name": "python3"
  },
  "language_info": {
   "codemirror_mode": {
    "name": "ipython",
    "version": 3
   },
   "file_extension": ".py",
   "mimetype": "text/x-python",
   "name": "python",
   "nbconvert_exporter": "python",
   "pygments_lexer": "ipython3",
   "version": "3.7.0"
  }
 },
 "nbformat": 4,
 "nbformat_minor": 2
}
