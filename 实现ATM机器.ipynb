{
 "cells": [
  {
   "cell_type": "markdown",
   "metadata": {},
   "source": [
    "## 2. 实现ATM机器\n",
    "- 查询余额\n",
    "- 存款\n",
    "- 取款\n",
    "- 退出"
   ]
  },
  {
   "cell_type": "code",
   "execution_count": 8,
   "metadata": {},
   "outputs": [
    {
     "name": "stdout",
     "output_type": "stream",
     "text": [
      "请输入您要办理也无的编号:\n",
      "1.查询余额\t2.存款\t3.取款\t4.退出\n"
     ]
    },
    {
     "name": "stdin",
     "output_type": "stream",
     "text": [
      " 3\n"
     ]
    },
    {
     "name": "stdout",
     "output_type": "stream",
     "text": [
      "请输入您取出的金额：\n"
     ]
    },
    {
     "name": "stdin",
     "output_type": "stream",
     "text": [
      " 20\n"
     ]
    },
    {
     "name": "stdout",
     "output_type": "stream",
     "text": [
      "您的存款是： 980 是否办理其他业务？输入您要办理的业务编号\n"
     ]
    },
    {
     "name": "stdin",
     "output_type": "stream",
     "text": [
      " 1\n"
     ]
    },
    {
     "name": "stdout",
     "output_type": "stream",
     "text": [
      "您的余额是： 980 是否办理其他业务？输入您要办理的业务编号\n"
     ]
    },
    {
     "name": "stdin",
     "output_type": "stream",
     "text": [
      " 500\n"
     ]
    }
   ],
   "source": [
    "money=1000\n",
    "i=0\n",
    "print('请输入您要办理也无的编号:\\n1.查询余额\\t2.存款\\t3.取款\\t4.退出')\n",
    "i=int(input())\n",
    "if i < 5:\n",
    "    while i in range(5):\n",
    "\n",
    "        if i == 1:\n",
    "            print('您的余额是：',money,'是否办理其他业务？输入您要办理的业务编号')\n",
    "            i=int(input())\n",
    "        elif i == 2:\n",
    "            print('请输入您要存的金额：')\n",
    "            mp=input()\n",
    "            money += int(mp)\n",
    "            print('您的存款是：',money,'是否办理其他业务？输入您要办理的业务编号')\n",
    "            i=int(input())\n",
    "        elif i == 3:\n",
    "            print('请输入您取出的金额：')\n",
    "            mp=input()\n",
    "            money -= int(mp)\n",
    "            print('您的存款是：',money,'是否办理其他业务？输入您要办理的业务编号')\n",
    "            i=int(input())\n",
    "        else:\n",
    "            print('感谢您的使用，谢谢！')\n",
    "            break\n",
    "else:\n",
    "    print('输入错误!')"
   ]
  }
 ],
 "metadata": {
  "kernelspec": {
   "display_name": "Python 3",
   "language": "python",
   "name": "python3"
  },
  "language_info": {
   "codemirror_mode": {
    "name": "ipython",
    "version": 3
   },
   "file_extension": ".py",
   "mimetype": "text/x-python",
   "name": "python",
   "nbconvert_exporter": "python",
   "pygments_lexer": "ipython3",
   "version": "3.7.0"
  }
 },
 "nbformat": 4,
 "nbformat_minor": 2
}
