{
 "cells": [
  {
   "cell_type": "markdown",
   "metadata": {},
   "source": [
    "![image alt <](https://img.kaikeba.com/web/kkb_index/img_index_logo.png )"
   ]
  },
  {
   "cell_type": "markdown",
   "metadata": {},
   "source": [
    "# 基础课第一部分（python）第五次作业\n",
    "\n",
    "这周我们学习了面向对象的编程，面向对象的编程常常使用在游戏开发中。我们本次作业将对抗游戏中的角色建立，简单攻击做了简化展示，同学们首先需要将这两部分内容仔细阅读和学习，之后的练习中武器配给及完整对抗攻击我们只会给出框架，更多的过程需要大家自己完成。"
   ]
  },
  {
   "cell_type": "markdown",
   "metadata": {},
   "source": [
    "角色建立考虑到角色的共性和特性，将所有角色的基本共性（包括name, damage, hp）集合到People 类中，作为所有角色的父类"
   ]
  },
  {
   "cell_type": "code",
   "execution_count": 3,
   "metadata": {},
   "outputs": [],
   "source": [
    "class People:\n",
    "    def __init__(self, name, damage, hp):\n",
    "        self.name=name\n",
    "        self.damage=damage\n",
    "        self.hp=hp\n"
   ]
  },
  {
   "cell_type": "markdown",
   "metadata": {},
   "source": [
    "针对不同阵营的英雄，在继承People类的基础上添加country属性。同时，建立了显示实例基本信息的方法 get_inf 和攻击其他实例的方法 attack。"
   ]
  },
  {
   "cell_type": "code",
   "execution_count": 5,
   "metadata": {},
   "outputs": [],
   "source": [
    "class Hero(People):\n",
    "    def __init__(self, name, damage, hp, country):\n",
    "        People.__init__(self, name, damage, hp)\n",
    "        self.country=country   \n",
    "        \n",
    "    def get_inf(self):\n",
    "        print(\"姓名：{}\".format(self.name))\n",
    "        print(\"攻击力：{}\".format(self.damage))\n",
    "        print(\"当前血量：{}\".format(self.hp))\n",
    "        print(\"阵营：{}\".format(self.country))\n",
    "\n",
    "    def attack(self,enemy):\n",
    "        print(self.name)\n",
    "        print(\"攻击力为：{}\".format(self.damage))\n",
    "        print(\"{}目前血量为：{}\".format(enemy.name, enemy.hp))\n",
    "        print(\"{}攻击{}\".format(self.name,enemy.name))\n",
    "        enemy.hp-=self.damage\n",
    "        print(\"{}剩余血量为：{}\".format(enemy.name, enemy.hp))\n",
    "        print(\"***********************************\")\n",
    "    def blood_return(self,hp): # 回血方法\n",
    "        print('{}逃跑，当前血量为：{}'.format(self.name,self.hp))\n",
    "        self.hp=100\n",
    "        print('{}恢复后的血量为：{}'.format(self.name,self.hp))\n"
   ]
  },
  {
   "cell_type": "markdown",
   "metadata": {},
   "source": [
    "接下来，我们尝试创建People 的实例 XB 和 Hero 类实例 LB 和 ZF。 "
   ]
  },
  {
   "cell_type": "code",
   "execution_count": 6,
   "metadata": {},
   "outputs": [],
   "source": [
    "XB = People(\"小兵\", 1, 10)\n",
    "LB=Hero(\"吕布\", 20, 100, \"群雄\")\n",
    "ZF=Hero(\"张飞\", 7, 80, \"蜀国\")"
   ]
  },
  {
   "cell_type": "markdown",
   "metadata": {},
   "source": [
    "实例创建完成之后，我们调用Hero 类中的方法 get_ing 查看实例 ZF 的基本信息。\n",
    "请同学们思考实例 XB 能否调用该方法，为什么？"
   ]
  },
  {
   "cell_type": "code",
   "execution_count": 7,
   "metadata": {},
   "outputs": [
    {
     "name": "stdout",
     "output_type": "stream",
     "text": [
      "姓名：张飞\n",
      "攻击力：7\n",
      "当前血量：80\n",
      "阵营：蜀国\n"
     ]
    }
   ],
   "source": [
    "ZF.get_inf()"
   ]
  },
  {
   "cell_type": "markdown",
   "metadata": {},
   "source": [
    "调用attack方法，让“ZF”攻击“LB”"
   ]
  },
  {
   "cell_type": "code",
   "execution_count": 8,
   "metadata": {},
   "outputs": [
    {
     "name": "stdout",
     "output_type": "stream",
     "text": [
      "张飞\n",
      "攻击力为：7\n",
      "吕布目前血量为：100\n",
      "张飞攻击吕布\n",
      "吕布剩余血量为：93\n",
      "***********************************\n"
     ]
    }
   ],
   "source": [
    "ZF.attack(LB)"
   ]
  },
  {
   "cell_type": "markdown",
   "metadata": {},
   "source": [
    "# 练习1\n",
    "\n",
    "这部分需要同学们新建一个武器类,同时能够将武器赋予某个实例，用以提升攻击力。\n"
   ]
  },
  {
   "cell_type": "markdown",
   "metadata": {},
   "source": [
    "属性：武器名称、武器伤害值"
   ]
  },
  {
   "cell_type": "markdown",
   "metadata": {},
   "source": [
    "方法：把武器给予某位英雄，赠予后该英雄攻击力为基础攻击力加武器伤害值"
   ]
  },
  {
   "cell_type": "code",
   "execution_count": 9,
   "metadata": {},
   "outputs": [],
   "source": [
    "class Weapon:\n",
    "    def __init__(self, name, damage):\n",
    "        \"\"\"武器基础属性\"\"\"\n",
    "        # Please code here\n",
    "        self.name = name\n",
    "        self.damage = damage\n",
    "\n",
    "    def take_weapon(self, hro):\n",
    "        \"\"\"将武器给予英雄，英雄攻击力提升\"\"\"\n",
    "        print(\"将武器{}装备给英雄{}\".format(self.name, hro.name))\n",
    "        hro.damage+=self.damage\n",
    "        print(\"{}的攻击力变为{}\".format(hro.name, hro.damage))"
   ]
  },
  {
   "cell_type": "markdown",
   "metadata": {},
   "source": [
    "# 练习2\n",
    "\n",
    " - 新建武器实例,其中包含属性：名称（丈八蛇矛）、伤害值（3）\n",
    " - 将武器赠与张飞\n",
    " "
   ]
  },
  {
   "cell_type": "code",
   "execution_count": 10,
   "metadata": {},
   "outputs": [
    {
     "name": "stdout",
     "output_type": "stream",
     "text": [
      "将武器丈八蛇矛装备给英雄张飞\n",
      "张飞的攻击力变为10\n"
     ]
    }
   ],
   "source": [
    "# Please code here\n",
    "BN=Weapon(\"丈八蛇矛\", 3)\n",
    "BN.take_weapon(ZF)\n"
   ]
  },
  {
   "cell_type": "markdown",
   "metadata": {},
   "source": [
    "# 练习3\n",
    "\n",
    "- 显示“ZF”目前信息\n",
    "- 令“ZF”攻击“LB”"
   ]
  },
  {
   "cell_type": "code",
   "execution_count": 11,
   "metadata": {},
   "outputs": [
    {
     "name": "stdout",
     "output_type": "stream",
     "text": [
      "姓名：张飞\n",
      "攻击力：10\n",
      "当前血量：80\n",
      "阵营：蜀国\n",
      "张飞\n",
      "攻击力为：10\n",
      "吕布目前血量为：93\n",
      "张飞攻击吕布\n",
      "吕布剩余血量为：83\n",
      "***********************************\n"
     ]
    }
   ],
   "source": [
    "# Please code here\n",
    "ZF.get_inf()\n",
    "ZF.attack(LB)"
   ]
  },
  {
   "cell_type": "markdown",
   "metadata": {},
   "source": [
    "# 提升练习 --“群英战吕布”\n",
    "\n",
    "框架：\n",
    "建立群英（多个hero实例）及吕布实例（属性值设置合理）\n",
    "让一个英雄（英雄1）与吕布持续战斗，当英雄1血量小于吕布攻击时，英雄1失败逃跑\n",
    "英雄1回复血量，同时加入英雄2，与吕布持续战斗，当。。。。\n",
    "持续添加英雄，直到吕布逃跑"
   ]
  },
  {
   "cell_type": "code",
   "execution_count": 12,
   "metadata": {},
   "outputs": [
    {
     "name": "stdout",
     "output_type": "stream",
     "text": [
      "张飞\n",
      "攻击力为：10\n",
      "吕布目前血量为：83\n",
      "张飞攻击吕布\n",
      "吕布剩余血量为：73\n",
      "***********************************\n",
      "吕布\n",
      "攻击力为：20\n",
      "张飞目前血量为：80\n",
      "吕布攻击张飞\n",
      "张飞剩余血量为：60\n",
      "***********************************\n",
      "['ZF']\n",
      "张飞\n",
      "攻击力为：10\n",
      "吕布目前血量为：73\n",
      "张飞攻击吕布\n",
      "吕布剩余血量为：63\n",
      "***********************************\n",
      "吕布\n",
      "攻击力为：20\n",
      "张飞目前血量为：60\n",
      "吕布攻击张飞\n",
      "张飞剩余血量为：40\n",
      "***********************************\n",
      "['ZF']\n",
      "张飞\n",
      "攻击力为：10\n",
      "吕布目前血量为：63\n",
      "张飞攻击吕布\n",
      "吕布剩余血量为：53\n",
      "***********************************\n",
      "吕布\n",
      "攻击力为：20\n",
      "张飞目前血量为：40\n",
      "吕布攻击张飞\n",
      "张飞剩余血量为：20\n",
      "***********************************\n",
      "['ZF']\n",
      "张飞\n",
      "攻击力为：10\n",
      "吕布目前血量为：53\n",
      "张飞攻击吕布\n",
      "吕布剩余血量为：43\n",
      "***********************************\n",
      "吕布\n",
      "攻击力为：20\n",
      "张飞目前血量为：20\n",
      "吕布攻击张飞\n",
      "张飞剩余血量为：0\n",
      "***********************************\n",
      "['ZF']\n",
      "张飞逃跑，当前血量为：0\n",
      "张飞恢复后的血量为：100\n",
      "1\n",
      "['ZF', 'hero1']\n",
      "hero1\n",
      "攻击力为：15\n",
      "吕布目前血量为：43\n",
      "hero1攻击吕布\n",
      "吕布剩余血量为：28\n",
      "***********************************\n",
      "吕布\n",
      "攻击力为：20\n",
      "hero1目前血量为：30\n",
      "吕布攻击hero1\n",
      "hero1剩余血量为：10\n",
      "***********************************\n",
      "['ZF', 'hero1']\n",
      "hero1逃跑，当前血量为：10\n",
      "hero1恢复后的血量为：100\n",
      "2\n",
      "['ZF', 'hero1', 'hero2']\n",
      "hero2\n",
      "攻击力为：15\n",
      "吕布目前血量为：28\n",
      "hero2攻击吕布\n",
      "吕布剩余血量为：13\n",
      "***********************************\n",
      "吕布\n",
      "攻击力为：20\n",
      "hero2目前血量为：30\n",
      "吕布攻击hero2\n",
      "hero2剩余血量为：10\n",
      "***********************************\n",
      "['ZF', 'hero1', 'hero2']\n",
      "吕布被击败\n"
     ]
    }
   ],
   "source": [
    "# 补充完善本代码块（实现指定功能即可）\n",
    "'''\n",
    "Class Hero\n",
    "增加了一个回血方法blood_return\n",
    "'''\n",
    "i = 0\n",
    "heros = {'ZF':ZF}\n",
    "while 1:\n",
    "    if LB.hp < list(heros.values())[i].damage:\n",
    "        print('吕布被击败')\n",
    "        break\n",
    "    elif list(heros.values())[i].hp>LB.damage or list(heros.values())[i].hp==LB.damage:\n",
    "        list(heros.values())[i].attack(LB)\n",
    "        LB.attack(list(heros.values())[i])\n",
    "    else:\n",
    "        list(heros.values())[i].blood_return(100)\n",
    "        i += 1\n",
    "        new_hero = Hero(\"hero\"+str(i), 15, 30, \"反吕联盟\")\n",
    "        heros[\"hero\"+str(i)] = new_hero\n",
    "        print(i)\n",
    "    print(list(heros))"
   ]
  }
 ],
 "metadata": {
  "kernelspec": {
   "display_name": "Python 3",
   "language": "python",
   "name": "python3"
  },
  "language_info": {
   "codemirror_mode": {
    "name": "ipython",
    "version": 3
   },
   "file_extension": ".py",
   "mimetype": "text/x-python",
   "name": "python",
   "nbconvert_exporter": "python",
   "pygments_lexer": "ipython3",
   "version": "3.7.0"
  }
 },
 "nbformat": 4,
 "nbformat_minor": 4
}
